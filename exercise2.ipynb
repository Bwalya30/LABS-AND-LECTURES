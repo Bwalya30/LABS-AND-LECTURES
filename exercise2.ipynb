{
 "cells": [
  {
   "cell_type": "code",
   "execution_count": null,
   "metadata": {},
   "outputs": [],
   "source": [
    "STANDARD_DEDUCTION = 12400\n",
    "\n",
    "total_income = int(input(\"Enter your income:\"))\n",
    "\n",
    "taxable_income = total_income - STANDARD_DEDUCTION\n",
    "\n",
    "if taxable_income <= 9875:\n",
    "    rate = 10\n",
    "\n",
    "elif taxable_income <= 40125:    ##elif is to make it do something, because if its false, it won't do anything, but with elif, don't have to redo it\n",
    "    rate = 12\n",
    "\n",
    "elif taxable_income <= 85525"
   ]
  },
  {
   "cell_type": "code",
   "execution_count": null,
   "metadata": {},
   "outputs": [],
   "source": [
    "if i < 5:\n",
    "    print('hellp, world! number: ,' i)\n",
    "    i = i + 1"
   ]
  },
  {
   "cell_type": "code",
   "execution_count": null,
   "metadata": {},
   "outputs": [],
   "source": [
    "INTRO TO WHILE-LOOPS\n",
    "i = 0\n",
    "while i < 5:\n",
    "    print(\"number: \",i)\n",
    "    i=i+1\n",
    "    "
   ]
  }
 ],
 "metadata": {
  "language_info": {
   "name": "python"
  }
 },
 "nbformat": 4,
 "nbformat_minor": 2
}
