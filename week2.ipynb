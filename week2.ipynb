{
 "cells": [
  {
   "cell_type": "code",
   "execution_count": null,
   "metadata": {},
   "outputs": [],
   "source": [
    "##read username and password from user\n",
    "username = input('Username: ')\n",
    "password = input('Password: ')\n",
    "\n",
    "##Determine if matches one pre set input\n",
    "larry_match = (username == 'Larry) and (password == 'coding_is_fun')\n",
    "\n",
    "if larry_match:\n",
    "    print(\"Access granted\")\n",
    "\n",
    "else"
   ]
  }
 ],
 "metadata": {
  "language_info": {
   "name": "python"
  }
 },
 "nbformat": 4,
 "nbformat_minor": 2
}
